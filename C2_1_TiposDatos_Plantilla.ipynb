{
  "nbformat": 4,
  "nbformat_minor": 0,
  "metadata": {
    "colab": {
      "provenance": []
    },
    "kernelspec": {
      "name": "python3",
      "display_name": "Python 3"
    },
    "language_info": {
      "name": "python"
    }
  },
  "cells": [
    {
      "cell_type": "code",
      "source": [
        "import this"
      ],
      "metadata": {
        "id": "INgY8eBcOcJE"
      },
      "execution_count": null,
      "outputs": []
    },
    {
      "cell_type": "markdown",
      "source": [
        "# Paso 1. Declaración de variables"
      ],
      "metadata": {
        "id": "3l6JJPOhPUHS"
      }
    },
    {
      "cell_type": "code",
      "execution_count": null,
      "metadata": {
        "id": "qAf9dBUzN79j"
      },
      "outputs": [],
      "source": [
        "## ZEN 2.  Explicit is better than implicit.\n",
        "edad = 25            # Entero (int)\n",
        "altura = 1.75        # Flotante (float)\n",
        "nombre = \"Carlos\"    # Cadena de texto (string)\n",
        "es_estudiante = True # Booleano (bool)"
      ]
    },
    {
      "cell_type": "markdown",
      "source": [
        "# Paso 2. Leer el tipo de Variable"
      ],
      "metadata": {
        "id": "IZAVuwQqPf2j"
      }
    },
    {
      "cell_type": "code",
      "source": [
        "# Para leer el tipo de la variable\n",
        "type(edad)"
      ],
      "metadata": {
        "id": "dgw2Lk9KPPsN"
      },
      "execution_count": null,
      "outputs": []
    },
    {
      "cell_type": "code",
      "source": [
        "# Actividad 2. Imprima el tipo de las otras variables"
      ],
      "metadata": {
        "id": "1ULV9k1FPnhq"
      },
      "execution_count": null,
      "outputs": []
    },
    {
      "cell_type": "markdown",
      "source": [
        "# Paso 3. Convertir\n",
        "\n",
        "para convertir se usa el tipo deseado y la variable en el parentesis:\n",
        "\n",
        "* int(variable)\n",
        "* float(variable)\n",
        "* str(variable)\n",
        "\n",
        "## Errores cómunes\n",
        "\n",
        "*  int('a')\n",
        "## Actividad\n",
        "* Convierte la edad en un número flotante e imprímela.\n",
        "* Convierte la altura en un número entero e imprímela.\n",
        "* Convierte la edad en una cadena de texto e imprímela.\n",
        "* Convierte el valor booleano es_estudiante en un número entero y en una cadena de texto, mostrando los resultados."
      ],
      "metadata": {
        "id": "dZvDO0cNPxIy"
      }
    },
    {
      "cell_type": "code",
      "source": [
        # Definimos las variables
edad = 25
altura = 175.5
es_estudiante = True

# Convertimos la edad en un número flotante
edad_flotante = float(edad)
print("Edad como flotante:", edad_flotante)

# Convertimos la altura en un número entero
altura_entera = int(altura)
print("Altura como entero:", altura_entera)

# Convertimos la edad en una cadena de texto
edad_cadena = str(edad)
print("Edad como cadena:", edad_cadena)

# Convertimos el valor booleano en un número entero
es_estudiante_entero = int(es_estudiante)
print("Es estudiante como entero:", es_estudiante_entero)

# Convertimos el valor booleano en una cadena de texto
es_estudiante_cadena = str(es_estudiante)
print("Es estudiante como cadena:", es_estudiante_cadena)

      ],
      "metadata": {
        "id": "wbThLYmLQ_Mi"
      },
      "execution_count": null,
      "outputs": []
    },
    {
      "cell_type": "code",
      "source": [
        "int('a')"
      ],
      "metadata": {
        "id": "ha9AFOuEQ8Q5"
      },
      "execution_count": null,
      "outputs": []
    }
  ]
}
