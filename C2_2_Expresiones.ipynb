{
  "nbformat": 4,
  "nbformat_minor": 0,
  "metadata": {
    "colab": {
      "provenance": []
    },
    "kernelspec": {
      "name": "python3",
      "display_name": "Python 3"
    },
    "language_info": {
      "name": "python"
    }
  },
  "cells": [
    {
      "cell_type": "markdown",
      "source": [
        "# Capítulo 2.2. Expresiones y Operadores\n",
        "\n",
        "**Objetivo:**\n",
        "Familiarizarse con los operadores matemáticos, relacionales y lógicos en Python mediante ejercicios prácticos y análisis de expresiones"
      ],
      "metadata": {
        "id": "nltUQBgRWM5X"
      }
    },
    {
      "cell_type": "markdown",
      "source": [
        "# Parte 1. Operadores aritmeticos"
      ],
      "metadata": {
        "id": "uj-B6ji_XaiE"
      }
    },
    {
      "cell_type": "code",
      "execution_count": null,
      "metadata": {
        "id": "pkko8vl6VzBR"
      },
      "outputs": [],
      "source": [
        "# Definimos variables numéricas\n",
        "a = 10\n",
        "b = 3\n",
        "\n",
        "# Operaciones básicas\n",
        "suma = a + b\n",
        "resta = a - b\n",
        "multiplicacion = a * b\n",
        "division = a / b\n",
        "division_entera = a // b\n",
        "modulo = a % b\n",
        "potencia = a ** b"
      ]
    },
    {
      "cell_type": "code",
      "source": [
        "# Imprime los resultados"
      ],
      "metadata": {
        "id": "28WCBxh7XiGl"
      },
      "execution_count": null,
      "outputs": []
    },
    {
      "cell_type": "markdown",
      "source": [
        "1. ¿Qué diferencia observas entre la división / y la división entera //?\n",
        "2. ¿Qué ocurre cuando cambias b por b = 0 en la operación de división?"
      ],
      "metadata": {
        "id": "SsYX8LojXoBE"
      }
    },
    {
      "cell_type": "markdown",
      "source": [
        "# Parte 2. Operadores Relacionales\n",
        "\n",
        "* `> ` : mayor que\n",
        "*` <`  : menor que\n",
        "* == : igual\n",
        "* != : diferente"
      ],
      "metadata": {
        "id": "lmusF4FRYPni"
      }
    },
    {
      "cell_type": "code",
      "source": [
        "x = 10\n",
        "y = 20\n",
        "\n",
        "# Actividad: Genera una comparación con cada operador\n"
      ],
      "metadata": {
        "id": "6ZPs4G73Xmos"
      },
      "execution_count": null,
      "outputs": []
    },
    {
      "cell_type": "markdown",
      "source": [
        "# Parte 3. Operadores Lógicos"
      ],
      "metadata": {
        "id": "U13O48cnX7ly"
      }
    },
    {
      "cell_type": "code",
      "source": [
        "p = True\n",
        "q = False\n",
        "\n",
        "### Solo imprimir texto\n",
        "print(\"Solo imprimir texto\")\n",
        "\n",
        "### Solo imprimir el valor de una variable o una operación\n",
        "print(p and q)\n",
        "\n",
        "### Combinado texto + operacion\n",
        "print(\"p AND q:\", p and q)"
      ],
      "metadata": {
        "id": "dn0lafknYA8E",
        "colab": {
          "base_uri": "https://localhost:8080/"
        },
        "outputId": "37c56b9c-a89d-45ae-9505-016ecf5e4f2b"
      },
      "execution_count": null,
      "outputs": [
        {
          "output_type": "stream",
          "name": "stdout",
          "text": [
            "Solo imprimir texto\n",
            "False\n",
            "p AND q: False\n"
          ]
        }
      ]
    },
    {
      "cell_type": "code",
      "source": [
        "print(\"p OR q:\", p or q)\n",
        "print(\"NOT p:\", not p)"
      ],
      "metadata": {
        "colab": {
          "base_uri": "https://localhost:8080/"
        },
        "id": "4dzM-umnl0o5",
        "outputId": "1c505b97-7ee7-4329-b4f0-bbc3728f58e9"
      },
      "execution_count": null,
      "outputs": [
        {
          "output_type": "stream",
          "name": "stdout",
          "text": [
            "p OR q: True\n",
            "NOT p: False\n"
          ]
        }
      ]
    },
    {
      "cell_type": "code",
      "source": [
        "A = True\n",
        "B = True\n",
        "A and B"
      ],
      "metadata": {
        "colab": {
          "base_uri": "https://localhost:8080/"
        },
        "id": "KyHdXLB3kFUR",
        "outputId": "78a99f73-366b-48ca-acce-670f61cc29f3"
      },
      "execution_count": null,
      "outputs": [
        {
          "output_type": "execute_result",
          "data": {
            "text/plain": [
              "True"
            ]
          },
          "metadata": {},
          "execution_count": 17
        }
      ]
    },
    {
      "cell_type": "markdown",
      "source": [
        "1. ¿En qué casos la operación and devuelve True?\n",
        "2. ¿Qué sucede si cambias los valores de p y q?"
      ],
      "metadata": {
        "id": "fvvGPUfwYCpt"
      }
    },
    {
      "cell_type": "markdown",
      "source": [
        "# Parte 4. Expresiones Matemáticas Combinadas"
      ],
      "metadata": {
        "id": "qM2E3eUdYMBz"
      }
    },
    {
      "cell_type": "code",
      "source": [
        "# Actividad 1. Cuál es el valor de x en los siguientes casos\n",
        "# x = 3 + 2 * 2\n",
        "# x = (3 + 2) * 2"
      ],
      "metadata": {
        "id": "sgSC8rN3YLjK"
      },
      "execution_count": null,
      "outputs": []
    },
    {
      "cell_type": "code",
      "source": [
        "x = 3 + 2 * 2\n",
        "x"
      ],
      "metadata": {
        "colab": {
          "base_uri": "https://localhost:8080/"
        },
        "id": "7mr1gG0PoKOl",
        "outputId": "e21bcad6-1eb9-4870-da91-1971aace1a6b"
      },
      "execution_count": null,
      "outputs": [
        {
          "output_type": "execute_result",
          "data": {
            "text/plain": [
              "7"
            ]
          },
          "metadata": {},
          "execution_count": 24
        }
      ]
    },
    {
      "cell_type": "code",
      "source": [
        "x = (3 + 2) * 2\n",
        "x"
      ],
      "metadata": {
        "colab": {
          "base_uri": "https://localhost:8080/"
        },
        "id": "NgETD4VLoPQ8",
        "outputId": "c58b514b-f152-414e-b9e5-39064e783ea2"
      },
      "execution_count": null,
      "outputs": [
        {
          "output_type": "execute_result",
          "data": {
            "text/plain": [
              "10"
            ]
          },
          "metadata": {},
          "execution_count": 20
        }
      ]
    },
    {
      "cell_type": "code",
      "source": [
        "x_1 = 3 + 2 * 2\n",
        "x_2 = (3 + 2) * 2\n",
        "print(\"operación sin parentesis\", x_1)\n",
        "print(\"operación con parentesis\", x_2)"
      ],
      "metadata": {
        "colab": {
          "base_uri": "https://localhost:8080/"
        },
        "id": "Z7Y0K9TLpzm-",
        "outputId": "2d1dbe2c-65d5-4ab1-f273-a14ae6e24207"
      },
      "execution_count": null,
      "outputs": [
        {
          "output_type": "stream",
          "name": "stdout",
          "text": [
            "operación sin parentesis 7\n",
            "operación con parentesis 10\n"
          ]
        }
      ]
    },
    {
      "cell_type": "code",
      "source": [
        "x = 3 + 2 * 2\n",
        "y = (3 + 2) * 2\n",
        "print(\"operación sin parentesis\", x)\n",
        "print(\"operación con parentesis\", y)"
      ],
      "metadata": {
        "colab": {
          "base_uri": "https://localhost:8080/"
        },
        "id": "_sditV_YoXte",
        "outputId": "e7916323-6673-4128-9a49-a7304c09aa90"
      },
      "execution_count": null,
      "outputs": [
        {
          "output_type": "stream",
          "name": "stdout",
          "text": [
            "operación sin parentesis 7\n",
            "operación con parentesis 10\n"
          ]
        }
      ]
    },
    {
      "cell_type": "markdown",
      "source": [
        "Actividad 4. Se tiene la ecuación del movimiento rectilíneo uniformemente acelerado:\n",
        "![image.png](data:image/png;base64,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)\n",
        "\n",
        "donde:\n",
        "\n",
        "* x_i = 0   # Posición inicial (m)\n",
        "* v_i = 5   # Velocidad inicial (m/s)\n",
        "* a = 2     # Aceleración (m/s^2)\n",
        "* t = 10    # Tiempo (s)"
      ],
      "metadata": {
        "id": "D-TqaQ60Z2-F"
      }
    },
    {
      "cell_type": "code",
      "source": [
        "x_i = 0\n",
        "v_i = 5\n",
        "a = 2\n",
        "t = 10\n",
        "\n",
        "X = x_i + v_i * t + 0.5 * a * t ** 2\n",
        "##\\n : salto de línea ( enter )\n",
        "\n",
        "print(\"La posición final es:\", X , \"metros.\\n\\n\\nDada una velocidad uniforme de:\", v_i, \"m/s\")\n"
      ],
      "metadata": {
        "id": "BiPTwmMiZuIG",
        "colab": {
          "base_uri": "https://localhost:8080/"
        },
        "outputId": "41178341-3347-4e1e-e77e-92d43cb6f832"
      },
      "execution_count": null,
      "outputs": [
        {
          "output_type": "stream",
          "name": "stdout",
          "text": [
            "La posición final es: 150.0 metros.\n",
            "\n",
            "\n",
            "Dada una velocidad uniforme de: 5 m/s\n"
          ]
        }
      ]
    },
    {
      "cell_type": "code",
      "source": [],
      "metadata": {
        "id": "bVxwR-bara7d"
      },
      "execution_count": null,
      "outputs": []
    }
  ]
}