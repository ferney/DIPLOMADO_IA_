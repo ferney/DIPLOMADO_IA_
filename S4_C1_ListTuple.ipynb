{
  "nbformat": 4,
  "nbformat_minor": 0,
  "metadata": {
    "colab": {
      "provenance": []
    },
    "kernelspec": {
      "name": "python3",
      "display_name": "Python 3"
    },
    "language_info": {
      "name": "python"
    }
  },
  "cells": [
    {
      "cell_type": "markdown",
      "source": [
        "\n",
        "# Laboratorio: Listas y Tuplas en Python\n",
        "\n",
        "## Objetivo\n",
        "En este laboratorio, aprenderás sobre las estructuras de datos listas y tuplas en Python, su uso, ventajas y desventajas.\n",
        "# --- Sección 1: Introducción a Listas ---"
      ],
      "metadata": {
        "id": "-UJxTFcAIyDR"
      }
    },
    {
      "cell_type": "code",
      "source": [
        "print(\"\\n1. Introducción a Listas\")"
      ],
      "metadata": {
        "id": "orQP86bsI87l"
      },
      "execution_count": null,
      "outputs": []
    },
    {
      "cell_type": "code",
      "source": [
        "# Definir una lista\n",
        "elementos = [1, 2, 3, 4, 5]\n",
        "print(\"Lista inicial:\", elementos)"
      ],
      "metadata": {
        "id": "C7AK5C19JAiU"
      },
      "execution_count": null,
      "outputs": []
    },
    {
      "cell_type": "code",
      "source": [
        "# Acceder a elementos\n",
        "print(\"Primer elemento:\", elementos[0])\n",
        "print(\"Último elemento:\", elementos[-1])"
      ],
      "metadata": {
        "id": "Tbr8ZGtAJHWF"
      },
      "execution_count": null,
      "outputs": []
    },
    {
      "cell_type": "code",
      "source": [
        "# Modificar elementos\n",
        "elementos[2] = 99\n",
        "print(\"Lista modificada:\", elementos)"
      ],
      "metadata": {
        "id": "Udd0ZcGIJC7d"
      },
      "execution_count": null,
      "outputs": []
    },
    {
      "cell_type": "code",
      "source": [
        "# Agregar elementos\n",
        "elementos.append(6)\n",
        "print(\"Lista después de agregar un elemento:\", elementos)"
      ],
      "metadata": {
        "id": "mfAEiiPhJTm_"
      },
      "execution_count": null,
      "outputs": []
    },
    {
      "cell_type": "code",
      "source": [
        "# Eliminar elementos\n",
        "elementos.remove(99)\n",
        "print(\"Lista después de eliminar un elemento:\", elementos)"
      ],
      "metadata": {
        "id": "5lp9uzIEJVBo"
      },
      "execution_count": null,
      "outputs": []
    },
    {
      "cell_type": "markdown",
      "source": [
        "# --- Ejercicio 1 ---"
      ],
      "metadata": {
        "id": "_riQvKCqJZPa"
      }
    },
    {
      "cell_type": "code",
      "source": [
        "print(\"\\nEjercicio 1: Crea una lista con los nombres de 3 frutas y luego agrega otra fruta a la lista.\")"
      ],
      "metadata": {
        "id": "EHctBDXfJYeI"
      },
      "execution_count": null,
      "outputs": []
    },
    {
      "cell_type": "code",
      "source": [
        "# --- Sección 2: Introducción a Tuplas ---\n",
        "print(\"\\n2. Introducción a Tuplas\")\n",
        "\n",
        "# Definir una tupla\n",
        "mi_tupla = (10, 20, 30, 40, 50)\n",
        "print(\"Tupla inicial:\", mi_tupla)"
      ],
      "metadata": {
        "id": "IeBimH2AKDFg"
      },
      "execution_count": null,
      "outputs": []
    },
    {
      "cell_type": "code",
      "source": [
        "# Acceder a elementos\n",
        "print(\"Segundo elemento:\", mi_tupla[1])\n",
        "\n",
        "# Intentar modificar (esto generará un error)\n",
        "try:\n",
        "    mi_tupla[1] = 99\n",
        "except TypeError as e:\n",
        "    print(\"Error al intentar modificar una tupla:\", e)"
      ],
      "metadata": {
        "id": "RdEMe7DHKFwE"
      },
      "execution_count": null,
      "outputs": []
    },
    {
      "cell_type": "code",
      "source": [
        "# --- Sección 3: Conversión entre listas y tuplas ---\n",
        "print(\"\\n3. Conversión entre Listas y Tuplas\")\n",
        "\n",
        "# Convertir lista a tupla\n",
        "tupla_convertida = tuple(elementos)\n",
        "print(\"Lista convertida en tupla:\", tupla_convertida)\n",
        "\n",
        "# Convertir tupla a lista\n",
        "lista_convertida = list(mi_tupla)\n",
        "print(\"Tupla convertida en lista:\", lista_convertida)\n",
        "\n",
        "# --- Ejercicio 3 ---\n",
        "print(\"\\nEjercicio 3: Convierte una tupla de números en una lista y agrega un nuevo número a la lista.\")"
      ],
      "metadata": {
        "id": "6jp1ymZiKZSO"
      },
      "execution_count": null,
      "outputs": []
    },
    {
      "cell_type": "code",
      "source": [
        "# --- Sección 4: Operaciones avanzadas con listas ---\n",
        "print(\"\\n4. Operaciones avanzadas con listas\")\n",
        "\n",
        "# Concatenación de listas\n",
        "lista1 = [1, 2, 3]\n",
        "lista2 = [4, 5, 6]\n",
        "lista_concatenada = lista1 + lista2\n",
        "print(\"Lista concatenada:\", lista_concatenada)\n",
        "\n",
        "# --- Ejercicio 4 ---\n",
        "print(\"\\nEjercicio 4: Crea dos listas de nombres y concaténalas en una sola lista.\")"
      ],
      "metadata": {
        "id": "AgThJZMaKieV"
      },
      "execution_count": null,
      "outputs": []
    },
    {
      "cell_type": "code",
      "source": [
        "# Listas anidadas\n",
        "lista_anidada = [[1, 2, 3], [4, 5, 6]]\n",
        "print(\"Lista anidada:\", lista_anidada)\n",
        "\n",
        "# --- Ejercicio 5 ---\n",
        "print(\"\\nEjercicio 5: Crea una lista anidada con los nombres de tres países y tres ciudades dentro de cada país.\")"
      ],
      "metadata": {
        "id": "ymEKIFnYKl6x"
      },
      "execution_count": null,
      "outputs": []
    },
    {
      "cell_type": "code",
      "source": [
        "# Extender listas\n",
        "lista1.extend(lista2)\n",
        "print(\"Lista extendida:\", lista1)\n",
        "\n",
        "# --- Ejercicio 6 ---\n",
        "print(\"\\nEjercicio 6: Crea una lista con 3 colores y extiéndela con otra lista de 2 colores adicionales.\")"
      ],
      "metadata": {
        "id": "e6nbXW2hKoXZ"
      },
      "execution_count": null,
      "outputs": []
    },
    {
      "cell_type": "code",
      "execution_count": null,
      "metadata": {
        "id": "8KiWeFB6wajl"
      },
      "outputs": [],
      "source": [
        "# División de cadenas en listas\n",
        "cadena = \"manzana,pera,uva\"\n",
        "lista_frutas = cadena.split(\",\")\n",
        "print(\"Lista de frutas obtenida con split:\", lista_frutas)\n",
        "\n",
        "# --- Ejercicio 7 ---\n",
        "print(\"\\nEjercicio 7: Toma una cadena de palabras separadas por espacios y conviértela en una lista de palabras usando split.\")\n"
      ]
    }
  ]
}